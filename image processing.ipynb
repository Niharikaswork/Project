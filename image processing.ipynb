{
 "cells": [
  {
   "cell_type": "code",
   "execution_count": 1,
   "id": "80a5bc7e",
   "metadata": {},
   "outputs": [],
   "source": [
    "import numpy as np\n",
    "import matplotlib.pyplot as plt\n",
    "import matplotlib.cm as cm\n",
    "from PIL import Image\n",
    "from scipy import misc\n",
    "import imageio"
   ]
  },
  {
   "cell_type": "code",
   "execution_count": 2,
   "id": "05f0bd67",
   "metadata": {},
   "outputs": [],
   "source": [
    "face = [[1, 1, 1, 1, 1, 0, 0, 0, 0, 0, 0, 1, 1, 1, 1, 1],\n",
    "[1, 1, 1, 1, 1, 0, 0, 1, 1, 0, 0, 1, 1, 1, 1, 1],\n",
    "[1, 1, 1, 1, 0, 0, 1, 1, 1, 1, 0, 0, 1, 1, 1, 1],\n",
    "[1, 1, 1, 0, 0, 1, 1, 1, 1, 1, 1, 0, 0, 1, 1, 1],\n",
    "[1, 1, 0, 0, 1, 1, 1, 1, 1, 1, 1, 1, 0, 0, 1, 1],\n",
    "[1, 1, 0, 1, 1, 0, 0, 1, 1, 0, 0, 1, 1, 0, 1, 1],\n",
    "[1, 0, 1, 1, 1, 0, 0, 1, 1, 0, 0, 1, 1, 1, 0, 1],\n",
    "[0, 1, 1, 1, 1, 1, 1, 1, 1, 1, 1, 1, 1, 1, 1, 0],\n",
    "[0, 1, 1, 0, 1, 1, 1, 1, 1, 1, 1, 1, 0, 1, 1, 0],\n",
    "[0, 1, 1, 1, 0, 1, 1, 1, 1, 1, 1, 0, 1, 1, 1, 0],\n",
    "[1, 0, 1, 1, 1, 0, 1, 1, 1, 1, 0, 1, 1, 1, 0, 1],\n",
    "[1, 1, 0, 1, 1, 1, 0, 0, 0, 0, 1, 1, 1, 0, 1, 1],\n",
    "[1, 1, 1, 0, 1, 1, 1, 1, 1, 1, 1, 1, 0, 1, 1, 1],\n",
    "[1, 1, 1, 1, 0, 1, 1, 1, 1, 1, 1, 0, 1, 1, 1, 1],\n",
    "[1, 1, 1, 1, 1, 0, 1, 1, 1, 1, 0, 1, 1, 1, 1, 1],\n",
    "[1, 1, 1, 1, 1, 1, 0, 0, 0, 0, 1, 1, 1, 1, 1, 1]]\n",
    "\n",
    "robot = [[1, 1, 1, 1, 1, 0, 0, 0, 0, 0, 1, 1, 1, 1, 1, 1],\n",
    "[1, 1, 1, 1, 1, 0, 1, 1, 1, 0, 1, 1, 1, 1, 1, 1],\n",
    "[1, 1, 1, 1, 1, 0, 1, 1, 1, 0, 1, 1, 1, 1, 1, 1],\n",
    "[1, 0, 1, 1, 1, 0, 0, 0, 0, 0, 1, 1, 1, 0, 1, 1],\n",
    "[1, 0, 0, 1, 1, 1, 1, 0, 1, 1, 1, 1, 0, 0, 1, 1],\n",
    "[1, 1, 1, 0, 1, 1, 1, 0, 1, 1, 1, 0, 1, 1, 1, 1],\n",
    "[1, 1, 1, 1, 0, 1, 1, 0, 1, 1, 0, 1, 1, 1, 1, 1],\n",
    "[1, 1, 1, 1, 1, 0, 1, 0, 1, 0, 1, 1, 1, 1, 1, 1],\n",
    "[1, 1, 1, 1, 1, 1, 0, 0, 0, 1, 1, 1, 1, 1, 1, 1],\n",
    "[1, 1, 1, 1, 1, 1, 1, 0, 1, 1, 1, 1, 1, 1, 1, 1],\n",
    "[1, 1, 1, 1, 1, 1, 1, 0, 1, 1, 1, 1, 1, 1, 1, 1],\n",
    "[1, 1, 1, 1, 1, 1, 0, 1, 0, 1, 1, 1, 1, 1, 1, 1],\n",
    "[1, 1, 1, 1, 1, 0, 1, 1, 1, 0, 1, 1, 1, 1, 1, 1],\n",
    "[1, 1, 1, 1, 0, 1, 1, 1, 1, 1, 0, 1, 1, 1, 1, 1],\n",
    "[1, 1, 1, 0, 1, 1, 1, 1, 1, 1, 1, 0, 1, 1, 1, 1],\n",
    "[1, 0, 0, 1, 1, 1, 1, 1, 1, 1, 1, 1, 0, 0, 1, 1]]\n",
    "\n",
    "ud = [[0, 0, 1, 1, 1, 0, 0, 1, 1, 0, 0, 0, 0, 0, 1, 1],\n",
    "[0, 0, 1, 1, 1, 0, 0, 1, 1, 0, 0, 0, 0, 0, 0, 1],\n",
    "[0, 0, 1, 1, 1, 0, 0, 1, 1, 0, 0, 1, 1, 1, 0, 0],\n",
    "[0, 0, 1, 1, 1, 0, 0, 1, 1, 0, 0, 1, 1, 1, 0, 0],\n",
    "[0, 0, 1, 1, 1, 0, 0, 1, 1, 0, 0, 1, 1, 1, 0, 0],\n",
    "[0, 0, 1, 1, 1, 0, 0, 1, 1, 0, 0, 1, 1, 1, 0, 0],\n",
    "[0, 0, 1, 1, 1, 0, 0, 1, 1, 0, 0, 1, 1, 1, 0, 0],\n",
    "[0, 0, 1, 1, 1, 0, 0, 1, 1, 0, 0, 1, 1, 1, 0, 0],\n",
    "[0, 0, 1, 1, 1, 0, 0, 1, 1, 0, 0, 1, 1, 1, 0, 0],\n",
    "[0, 0, 1, 1, 1, 0, 0, 1, 1, 0, 0, 1, 1, 1, 0, 0],\n",
    "[0, 0, 1, 1, 1, 0, 0, 1, 1, 0, 0, 1, 1, 1, 0, 0],\n",
    "[0, 0, 1, 1, 1, 0, 0, 1, 1, 0, 0, 1, 1, 1, 0, 0],\n",
    "[0, 0, 1, 1, 1, 0, 0, 1, 1, 0, 0, 1, 1, 1, 0, 0],\n",
    "[0, 0, 1, 1, 1, 0, 0, 1, 1, 0, 0, 1, 1, 1, 0, 0],\n",
    "[0, 0, 0, 0, 0, 0, 0, 1, 1, 0, 0, 0, 0, 0, 0, 1],\n",
    "[0, 0, 0, 0, 0, 0, 0, 1, 1, 0, 0, 0, 0, 0, 1, 1]]\n",
    "\n",
    "#intial states or partial images are as below\n",
    "\n",
    "partialface = [[1, 1, 1, 1, 1, 1, 1, 0, 0, 0, 0, 1, 1, 1, 1, 1],\n",
    "[1, 1, 1, 1, 1, 1, 1, 1, 1, 0, 0, 1, 1, 1, 1, 1],\n",
    "[1, 1, 1, 1, 1, 1, 1, 1, 1, 1, 0, 0, 1, 1, 1, 1],\n",
    "[1, 1, 1, 0, 0, 1, 1, 1, 1, 1, 1, 0, 0, 1, 1, 1],\n",
    "[1, 1, 0, 0, 1, 1, 1, 1, 1, 1, 1, 1, 0, 0, 1, 1],\n",
    "[1, 1, 0, 1, 1, 1, 1, 1, 1, 0, 0, 1, 1, 0, 1, 1],\n",
    "[1, 0, 1, 1, 1, 1, 1, 1, 1, 0, 0, 1, 1, 1, 0, 1],\n",
    "[0, 1, 1, 1, 1, 1, 1, 1, 1, 1, 1, 1, 1, 1, 1, 0],\n",
    "[0, 1, 1, 0, 1, 1, 1, 1, 1, 1, 1, 1, 0, 1, 1, 0],\n",
    "[0, 1, 1, 1, 0, 1, 1, 1, 1, 1, 1, 0, 1, 1, 1, 0],\n",
    "[1, 0, 1, 1, 1, 0, 1, 1, 1, 1, 0, 1, 1, 1, 0, 1],\n",
    "[1, 1, 0, 1, 1, 1, 0, 0, 0, 0, 1, 1, 1, 0, 1, 1],\n",
    "[1, 1, 1, 0, 1, 1, 1, 1, 1, 1, 1, 1, 0, 1, 1, 1],\n",
    "[1, 1, 1, 1, 0, 1, 1, 1, 1, 1, 1, 0, 1, 1, 1, 1],\n",
    "[1, 1, 1, 1, 1, 0, 1, 1, 1, 1, 1, 1, 1, 1, 1, 1],\n",
    "[1, 1, 1, 1, 1, 1, 0, 0, 0, 1, 1, 1, 1, 1, 1, 1]]\n",
    "\n",
    "partialrobot = [[1, 1, 1, 1, 1, 0, 0, 1, 0, 0, 1, 1, 1, 1, 1, 1],\n",
    "[1, 1, 1, 1, 1, 0, 1, 1, 1, 0, 1, 1, 1, 1, 1, 1],\n",
    "[1, 1, 1, 1, 1, 0, 1, 1, 1, 0, 1, 1, 1, 1, 1, 1],\n",
    "[1, 1, 1, 1, 1, 0, 0, 0, 0, 0, 1, 1, 1, 1, 1, 1],\n",
    "[1, 1, 1, 1, 1, 1, 1, 0, 1, 1, 1, 1, 0, 1, 1, 1],\n",
    "[1, 1, 1, 1, 1, 1, 1, 0, 1, 1, 1, 0, 1, 1, 1, 1],\n",
    "[1, 1, 1, 1, 1, 1, 1, 0, 1, 1, 0, 1, 1, 1, 1, 1],\n",
    "[1, 1, 1, 1, 1, 0, 1, 0, 1, 0, 1, 1, 1, 1, 1, 1],\n",
    "[1, 1, 1, 1, 1, 1, 0, 0, 0, 1, 1, 1, 1, 1, 1, 1],\n",
    "[1, 1, 1, 1, 1, 1, 1, 0, 1, 1, 1, 1, 1, 1, 1, 1],\n",
    "[1, 1, 1, 1, 1, 1, 1, 0, 1, 1, 1, 1, 1, 1, 1, 1],\n",
    "[1, 1, 1, 1, 1, 1, 0, 1, 0, 1, 1, 1, 1, 1, 1, 1],\n",
    "[1, 1, 1, 1, 1, 0, 1, 1, 1, 0, 1, 1, 1, 1, 1, 1],\n",
    "[1, 1, 1, 1, 0, 1, 1, 1, 1, 1, 0, 1, 1, 1, 1, 1],\n",
    "[1, 1, 1, 0, 1, 1, 1, 1, 1, 1, 1, 0, 1, 1, 1, 1],\n",
    "[1, 0, 0, 1, 1, 1, 1, 1, 1, 1, 1, 1, 1, 1, 1, 1]]\n",
    "\n",
    "partialud = [[0, 0, 1, 1, 1, 0, 0, 1, 1, 0, 0, 1, 0, 0, 1, 1],\n",
    "[1, 0, 1, 1, 1, 0, 0, 1, 1, 0, 0, 0, 0, 0, 0, 1],\n",
    "[0, 0, 1, 1, 1, 0, 0, 1, 1, 0, 0, 1, 1, 1, 0, 0],\n",
    "[0, 1, 1, 0, 1, 0, 0, 1, 1, 1, 0, 1, 1, 1, 0, 0],\n",
    "[0, 0, 1, 1, 1, 0, 1, 1, 1, 0, 0, 1, 1, 1, 0, 0],\n",
    "[0, 0, 1, 1, 1, 0, 0, 1, 1, 0, 0, 1, 0, 1, 0, 0],\n",
    "[0, 0, 1, 1, 1, 0, 0, 1, 1, 0, 0, 1, 1, 1, 0, 0],\n",
    "[1, 0, 1, 1, 1, 0, 0, 1, 1, 0, 0, 1, 1, 1, 1, 0],\n",
    "[0, 1, 1, 0, 1, 1, 0, 1, 1, 1, 0, 1, 1, 1, 0, 0],\n",
    "[0, 0, 1, 1, 1, 0, 0, 1, 1, 0, 0, 1, 1, 1, 0, 0],\n",
    "[0, 0, 1, 1, 1, 0, 0, 1, 1, 0, 0, 0, 1, 1, 0, 1],\n",
    "[0, 0, 1, 1, 1, 0, 0, 1, 1, 0, 0, 1, 1, 1, 0, 0],\n",
    "[0, 0, 1, 1, 1, 0, 0, 1, 1, 0, 0, 1, 1, 1, 0, 0],\n",
    "[1, 0, 1, 1, 1, 0, 0, 1, 1, 1, 0, 1, 1, 1, 0, 0],\n",
    "[0, 0, 1, 0, 0, 0, 0, 1, 1, 0, 0, 0, 1, 0, 0, 1],\n",
    "[0, 0, 0, 0, 0, 0, 1, 1, 1, 0, 0, 0, 0, 0, 1, 1]]\n"
   ]
  },
  {
   "cell_type": "code",
   "execution_count": 3,
   "id": "c970649f",
   "metadata": {},
   "outputs": [],
   "source": [
    "ud_stable_state = np.zeros( (16, 16) )\n",
    "robot_stable_state = np.zeros( (16, 16) )\n",
    "face_stable_state = np.zeros( (16, 16) )\n",
    "weight_matrix = np.zeros( (16, 16) )"
   ]
  },
  {
   "cell_type": "code",
   "execution_count": 10,
   "id": "716fb85a",
   "metadata": {},
   "outputs": [],
   "source": [
    "def def calculateWij(i,j):\n",
    "    i1 = int(i/16)\n",
    "    i2 = int(i%16)\n",
    "    j1 = int(j/16)\n",
    "    j2 = int(j%16)\n",
    "    weight_matrix_cell = (partialud[i1][i2]*partialud[j1][j2]) + (partialrobot[i1][i2]*partialrobot[j1][j2]) + (partialface[i1][i2]*partialface[j1][j2])\n",
    "    return weight_matrix_cell\n"
   ]
  },
  {
   "cell_type": "code",
   "execution_count": 5,
   "id": "c50ec9e4",
   "metadata": {},
   "outputs": [],
   "source": [
    "for i in range(16):\n",
    "    for j in range(16):\n",
    "        if(i==j):\n",
    "            weight_matrix[i][j] = 0\n",
    "        else:\n",
    "            weight_matrix[i][j] = calculateWij(i,j)"
   ]
  },
  {
   "cell_type": "code",
   "execution_count": 6,
   "id": "e98294a5",
   "metadata": {},
   "outputs": [
    {
     "name": "stdout",
     "output_type": "stream",
     "text": [
      "Weight Matrix\n",
      "[[0. 2. 2. 2. 2. 1. 1. 1. 0. 0. 1. 2. 2. 2. 2. 2.]\n",
      " [2. 0. 2. 2. 2. 1. 1. 1. 0. 0. 1. 2. 2. 2. 2. 2.]\n",
      " [2. 2. 0. 3. 3. 1. 1. 2. 1. 0. 1. 3. 2. 2. 3. 3.]\n",
      " [2. 2. 3. 0. 3. 1. 1. 2. 1. 0. 1. 3. 2. 2. 3. 3.]\n",
      " [2. 2. 3. 3. 0. 1. 1. 2. 1. 0. 1. 3. 2. 2. 3. 3.]\n",
      " [1. 1. 1. 1. 1. 0. 1. 0. 0. 0. 0. 1. 1. 1. 1. 1.]\n",
      " [1. 1. 1. 1. 1. 1. 0. 0. 0. 0. 0. 1. 1. 1. 1. 1.]\n",
      " [1. 1. 2. 2. 2. 0. 0. 0. 1. 0. 1. 2. 1. 1. 2. 2.]\n",
      " [0. 0. 1. 1. 1. 0. 0. 1. 0. 0. 0. 1. 0. 0. 1. 1.]\n",
      " [0. 0. 0. 0. 0. 0. 0. 0. 0. 0. 0. 0. 0. 0. 0. 0.]\n",
      " [1. 1. 1. 1. 1. 0. 0. 1. 0. 0. 0. 1. 1. 1. 1. 1.]\n",
      " [2. 2. 3. 3. 3. 1. 1. 2. 1. 0. 1. 0. 2. 2. 3. 3.]\n",
      " [2. 2. 2. 2. 2. 1. 1. 1. 0. 0. 1. 2. 0. 2. 2. 2.]\n",
      " [2. 2. 2. 2. 2. 1. 1. 1. 0. 0. 1. 2. 2. 0. 2. 2.]\n",
      " [2. 2. 3. 3. 3. 1. 1. 2. 1. 0. 1. 3. 2. 2. 0. 3.]\n",
      " [2. 2. 3. 3. 3. 1. 1. 2. 1. 0. 1. 3. 2. 2. 3. 0.]]\n"
     ]
    }
   ],
   "source": [
    "print('Weight Matrix')\n",
    "print(weight_matrix)"
   ]
  },
  {
   "cell_type": "code",
   "execution_count": 7,
   "id": "73180a58",
   "metadata": {},
   "outputs": [],
   "source": [
    "def calculateStableState(stable_state):\n",
    "    for i in range(16):\n",
    "        for j in range(16):\n",
    "            if(stable_state[i][j] > 0):\n",
    "                stable_state[i][j] = 1\n",
    "            else:\n",
    "                stable_state[i][j] = 0\n",
    "    return stable_state"
   ]
  },
  {
   "cell_type": "code",
   "execution_count": 8,
   "id": "1cba7baf",
   "metadata": {},
   "outputs": [],
   "source": [
    "ud_stable_state = np.dot(weight_matrix,partialud)\n",
    "ud_stable_state = calculateStableState(ud_stable_state)\n",
    "\n",
    "robot_stable_state = np.dot(weight_matrix,partialrobot)\n",
    "robot_stable_state = calculateStableState(robot_stable_state)\n",
    "\n",
    "face_stable_state = np.dot(weight_matrix,partialface)\n",
    "face_stable_state = calculateStableState(face_stable_state)"
   ]
  },
  {
   "cell_type": "code",
   "execution_count": 9,
   "id": "24ee7454",
   "metadata": {},
   "outputs": [
    {
     "name": "stdout",
     "output_type": "stream",
     "text": [
      "UD\n"
     ]
    },
    {
     "data": {
      "image/png": "[encoded data removed]",
      "text/plain": [
       "<Figure size 432x288 with 1 Axes>"
      ]
     },
     "metadata": {
      "needs_background": "light"
     },
     "output_type": "display_data"
    },
    {
     "name": "stdout",
     "output_type": "stream",
     "text": [
      "Partial UD\n"
     ]
    },
    {
     "data": {
      "image/png": "[encoded data removed]",
      "text/plain": [
       "<Figure size 576x576 with 1 Axes>"
      ]
     },
     "metadata": {
      "needs_background": "light"
     },
     "output_type": "display_data"
    },
    {
     "name": "stdout",
     "output_type": "stream",
     "text": [
      "Stable UD\n"
     ]
    },
    {
     "data": {
      "image/png": "[encoded data removed]",
      "text/plain": [
       "<Figure size 432x288 with 1 Axes>"
      ]
     },
     "metadata": {
      "needs_background": "light"
     },
     "output_type": "display_data"
    },
    {
     "name": "stdout",
     "output_type": "stream",
     "text": [
      "Robot\n"
     ]
    },
    {
     "data": {
      "image/png": "[encoded data removed]",
      "text/plain": [
       "<Figure size 432x288 with 1 Axes>"
      ]
     },
     "metadata": {
      "needs_background": "light"
     },
     "output_type": "display_data"
    },
    {
     "name": "stdout",
     "output_type": "stream",
     "text": [
      "Partial Robot\n"
     ]
    },
    {
     "data": {
      "image/png": "[encoded data removed]",
      "text/plain": [
       "<Figure size 432x288 with 1 Axes>"
      ]
     },
     "metadata": {
      "needs_background": "light"
     },
     "output_type": "display_data"
    },
    {
     "name": "stdout",
     "output_type": "stream",
     "text": [
      "Stable Robot\n"
     ]
    },
    {
     "data": {
      "image/png": "[encoded data removed]",
      "text/plain": [
       "<Figure size 432x288 with 1 Axes>"
      ]
     },
     "metadata": {
      "needs_background": "light"
     },
     "output_type": "display_data"
    },
    {
     "name": "stdout",
     "output_type": "stream",
     "text": [
      "Face\n"
     ]
    },
    {
     "data": {
      "image/png": "[encoded data removed]",
      "text/plain": [
       "<Figure size 432x288 with 1 Axes>"
      ]
     },
     "metadata": {
      "needs_background": "light"
     },
     "output_type": "display_data"
    },
    {
     "name": "stdout",
     "output_type": "stream",
     "text": [
      "Partial Face\n"
     ]
    },
    {
     "data": {
      "image/png": "[encoded data removed]",
      "text/plain": [
       "<Figure size 432x288 with 1 Axes>"
      ]
     },
     "metadata": {
      "needs_background": "light"
     },
     "output_type": "display_data"
    },
    {
     "name": "stdout",
     "output_type": "stream",
     "text": [
      "Stable Face\n"
     ]
    },
    {
     "data": {
      "image/png": "[encoded data removed]",
      "text/plain": [
       "<Figure size 432x288 with 1 Axes>"
      ]
     },
     "metadata": {
      "needs_background": "light"
     },
     "output_type": "display_data"
    }
   ],
   "source": [
    "print('UD')\n",
    "plt.imshow(ud, cmap=plt.cm.gray)  \n",
    "plt.show()\n",
    "print('Partial UD')\n",
    "fig=plt.figure(figsize=(8, 8))\n",
    "plt.imshow(partialud, cmap=plt.cm.gray)  \n",
    "plt.show()\n",
    "print('Stable UD')\n",
    "plt.imshow(ud_stable_state, cmap=plt.cm.gray)  \n",
    "plt.show()\n",
    "print('Robot')\n",
    "plt.imshow(robot, cmap=plt.cm.gray)  \n",
    "plt.show()\n",
    "print('Partial Robot')\n",
    "plt.imshow(partialrobot, cmap=plt.cm.gray)  \n",
    "plt.show()\n",
    "print('Stable Robot')\n",
    "plt.imshow(robot_stable_state, cmap=plt.cm.gray)  \n",
    "plt.show()\n",
    "print('Face')\n",
    "plt.imshow(face, cmap=plt.cm.gray)  \n",
    "plt.show()\n",
    "print('Partial Face')\n",
    "plt.imshow(partialface, cmap=plt.cm.gray)  \n",
    "plt.show()\n",
    "print('Stable Face')\n",
    "plt.imshow(face_stable_state, cmap=plt.cm.gray)  \n",
    "plt.show()"
   ]
  },
  {
   "cell_type": "code",
   "execution_count": null,
   "id": "9e82b465",
   "metadata": {},
   "outputs": [],
   "source": []
  }
 ],
 "metadata": {
  "kernelspec": {
   "display_name": "Python 3",
   "language": "python",
   "name": "python3"
  },
  "language_info": {
   "codemirror_mode": {
    "name": "ipython",
    "version": 3
   },
   "file_extension": ".py",
   "mimetype": "text/x-python",
   "name": "python",
   "nbconvert_exporter": "python",
   "pygments_lexer": "ipython3",
   "version": "3.8.8"
  }
 },
 "nbformat": 4,
 "nbformat_minor": 5
}
